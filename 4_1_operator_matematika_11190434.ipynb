{
 "cells": [
  {
   "cell_type": "code",
   "execution_count": null,
   "metadata": {
    "id": "f7WajviOKztl"
   },
   "outputs": [],
   "source": []
  },
  {
   "cell_type": "markdown",
   "metadata": {
    "id": "Zf9uJW37LCfb"
   },
   "source": [
    "**Praktek Operasi Matematika**\n",
    "\n",
    "Pada praktek ini kita akan mencoba semua operator matematika.\n",
    "\n",
    "Praktek pada sesi kali ini akan menekankan bagaimana menggunakan operator langsung diimplementasikan dengan variable.\n",
    "\n",
    "Implementasikan code di bawah ini pada kode cell editor:\n",
    "``` javascript\n",
    "a=10\n",
    "b=5\n",
    "selisih = a-b\n",
    "jumlah = a+b\n",
    "kali = a*b\n",
    "bagi = a/b\n",
    "print(\"Hasil penjumlahan dan b adalah\", jumlah)\n",
    "print(\"Selisih a dan b adalah :\",selisih)\n",
    "print(\"Hasil perkalian a dan b adalah :\",kali)\n",
    "print(\"Hasil  pembagian a dan b adalah:\",bagi)\n",
    "\n",
    "``` \n",
    " \n",
    "\n",
    "Ketikan code cell di bawah ini pada editor:"
   ]
  },
  {
   "cell_type": "code",
   "execution_count": 1,
   "metadata": {
    "id": "hYGfkiKOMo_x"
   },
   "outputs": [
    {
     "name": "stdout",
     "output_type": "stream",
     "text": [
      "Selisih a dan b adalah : 8\n",
      "Hasil penjumlahan a dan b adalah: 12\n",
      "Hasil perkalian a dan b adalah : 20\n",
      "Hasil  pembagian a dan b adalah: 5.0\n"
     ]
    }
   ],
   "source": [
    "a=10\n",
    "b=2\n",
    "\n",
    "#selisih \n",
    "c = a-b\n",
    "print(\"Selisih a dan b adalah :\",c)\n",
    "\n",
    "#jumlah \n",
    "c = a+b\n",
    "print(\"Hasil penjumlahan a dan b adalah:\",c)\n",
    "\n",
    "#kali \n",
    "c = a*b\n",
    "print(\"Hasil perkalian a dan b adalah :\",c)\n",
    "\n",
    "#bagi \n",
    "c = a/b\n",
    "print(\"Hasil  pembagian a dan b adalah:\",c)\n"
   ]
  },
  {
   "cell_type": "code",
   "execution_count": null,
   "metadata": {},
   "outputs": [],
   "source": []
  }
 ],
 "metadata": {
  "colab": {
   "collapsed_sections": [],
   "name": "4.1_operator_matematika.ipynb",
   "provenance": []
  },
  "kernelspec": {
   "display_name": "Python 3",
   "language": "python",
   "name": "python3"
  },
  "language_info": {
   "codemirror_mode": {
    "name": "ipython",
    "version": 3
   },
   "file_extension": ".py",
   "mimetype": "text/x-python",
   "name": "python",
   "nbconvert_exporter": "python",
   "pygments_lexer": "ipython3",
   "version": "3.8.3"
  }
 },
 "nbformat": 4,
 "nbformat_minor": 1
}
