{
 "cells": [
  {
   "cell_type": "code",
   "execution_count": null,
   "metadata": {
    "id": "f7WajviOKztl"
   },
   "outputs": [],
   "source": []
  },
  {
   "cell_type": "markdown",
   "metadata": {
    "id": "Zf9uJW37LCfb"
   },
   "source": [
    "**Praktek Operasi Input Dan Operator Matematika**\n",
    "\n",
    "Bukalah kembali praktek operator matematika.\n",
    "\n",
    "Ubahlah agar variable **a** dan **b** menggunakan input dari keyboard\n",
    "\n",
    "\n",
    "Implementasikan code di bawah ini pada kode cell editor:\n",
    "``` javascript\n",
    "selisih = a-b\n",
    "jumlah = a+b\n",
    "kali = a*b\n",
    "bagi = a/b\n",
    "print(\"Hasil penjumlahan dan b adalah\", jumlah)\n",
    "print(\"Selisih a dan b adalah :\",selisih)\n",
    "print(\"Hasil perkalian a dan b adalah :\",kali)\n",
    "print(\"Hasil  pembagian a dan b adalah:\",bagi)\n",
    "\n",
    "``` \n",
    " \n",
    "\n",
    "Ketikan pada code cell di bawah ini pada editor:"
   ]
  },
  {
   "cell_type": "code",
   "execution_count": 1,
   "metadata": {
    "id": "hYGfkiKOMo_x"
   },
   "outputs": [
    {
     "name": "stdout",
     "output_type": "stream",
     "text": [
      "masukkan nilai a=5\n",
      "masukkan nilai b=2\n",
      "Selisih a dan b adalah : 3\n",
      "Hasil penjumlahan a dan b adalah: 7\n",
      "Hasil perkalian a dan b adalah : 10\n",
      "Hasil  pembagian a dan b adalah: 2.5\n"
     ]
    }
   ],
   "source": [
    "a=int(input(\"masukkan nilai a=\"))\n",
    "b=int(input(\"masukkan nilai b=\"))\n",
    "\n",
    "#selisih \n",
    "c = a-b\n",
    "print(\"Selisih a dan b adalah :\",c)\n",
    "\n",
    "#jumlah \n",
    "c = a+b\n",
    "print(\"Hasil penjumlahan a dan b adalah:\",c)\n",
    "\n",
    "#kali \n",
    "c = a*b\n",
    "print(\"Hasil perkalian a dan b adalah :\",c)\n",
    "\n",
    "#bagi \n",
    "c = a/b\n",
    "print(\"Hasil  pembagian a dan b adalah:\",c)\n"
   ]
  },
  {
   "cell_type": "code",
   "execution_count": null,
   "metadata": {},
   "outputs": [],
   "source": []
  }
 ],
 "metadata": {
  "colab": {
   "collapsed_sections": [],
   "name": "4.4_operator_matematika_dan_input.ipynb",
   "provenance": []
  },
  "kernelspec": {
   "display_name": "Python 3",
   "language": "python",
   "name": "python3"
  },
  "language_info": {
   "codemirror_mode": {
    "name": "ipython",
    "version": 3
   },
   "file_extension": ".py",
   "mimetype": "text/x-python",
   "name": "python",
   "nbconvert_exporter": "python",
   "pygments_lexer": "ipython3",
   "version": "3.8.3"
  }
 },
 "nbformat": 4,
 "nbformat_minor": 1
}
