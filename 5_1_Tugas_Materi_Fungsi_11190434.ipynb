{
 "cells": [
  {
   "cell_type": "code",
   "execution_count": null,
   "metadata": {
    "id": "22s8pI85u5_J"
   },
   "outputs": [],
   "source": []
  },
  {
   "cell_type": "markdown",
   "metadata": {
    "id": "fPMZcyuxvINI"
   },
   "source": [
    "**Soal 5.1.1**\n",
    "\n",
    "Berikut ini adalah potongan kode implementasi fungsi *luas_limas_segi_empat()*\n",
    "``` javascript\n",
    "print(\"Luas : %d\" % luas_limas_segi_empat(Alas_limas, Tinggi_limas))​\n",
    "```\n",
    "Lengkapilah kode tersebut dengan merancang sebuah fungsi agar bisa diimplementasikan sesuai dengan statment potongan kode diatas.\n",
    "dengan mengetikan pada code cell di bawah ini pada editor.\n",
    "\n"
   ]
  },
  {
   "cell_type": "code",
   "execution_count": 3,
   "metadata": {},
   "outputs": [
    {
     "name": "stdout",
     "output_type": "stream",
     "text": [
      "Masukan Luas Alas:3\n",
      "Masukan Tinggi_limas:5\n",
      "Luas : 39\n"
     ]
    }
   ],
   "source": [
    "# Soal 4.1.1\n",
    "def luas_limas_segi_empat(Alas_limas, Tinggi_limas):\n",
    "    Alas_limas = int(input(\"Masukan Luas Alas:\"))\n",
    "    Tinggi_limas = int(input(\"Masukan Tinggi_limas:\"))\n",
    "    luas= (Alas_limas*Alas_limas)+(4*0.5*Alas_limas*Tinggi_limas)\n",
    "    return luas\n",
    "# pemanggilan fungsi\n",
    "print(\"Luas : %d\" % luas_limas_segi_empat(print, print))"
   ]
  },
  {
   "cell_type": "code",
   "execution_count": null,
   "metadata": {},
   "outputs": [],
   "source": []
  }
 ],
 "metadata": {
  "colab": {
   "collapsed_sections": [],
   "name": "5.1_Tugas_Materi_Fungsi.ipynb",
   "provenance": []
  },
  "kernelspec": {
   "display_name": "Python 3",
   "language": "python",
   "name": "python3"
  },
  "language_info": {
   "codemirror_mode": {
    "name": "ipython",
    "version": 3
   },
   "file_extension": ".py",
   "mimetype": "text/x-python",
   "name": "python",
   "nbconvert_exporter": "python",
   "pygments_lexer": "ipython3",
   "version": "3.8.3"
  }
 },
 "nbformat": 4,
 "nbformat_minor": 1
}
